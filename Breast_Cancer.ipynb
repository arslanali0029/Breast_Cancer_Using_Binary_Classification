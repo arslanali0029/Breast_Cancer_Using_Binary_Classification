{
 "cells": [
  {
   "cell_type": "markdown",
   "metadata": {},
   "source": [
    "# Importing Required Labaraies"
   ]
  },
  {
   "cell_type": "code",
   "execution_count": 1,
   "metadata": {},
   "outputs": [],
   "source": [
    "from sklearn.datasets import load_breast_cancer\n",
    "from sklearn.model_selection import train_test_split\n",
    "from sklearn.metrics import confusion_matrix\n",
    "import numpy as np\n",
    "import pandas as pd\n",
    "import matplotlib.pyplot as plt\n",
    "import seaborn as sns"
   ]
  },
  {
   "cell_type": "markdown",
   "metadata": {},
   "source": [
    "# Loading Data and feature Scaling "
   ]
  },
  {
   "cell_type": "code",
   "execution_count": 2,
   "metadata": {},
   "outputs": [],
   "source": [
    "dataset=load_breast_cancer()\n",
    "columns=['mean radius', 'mean texture', 'mean perimeter', 'mean area','mean smoothness', 'mean compactness',\n",
    "         'mean concavity','mean concave points', 'mean symmetry', 'mean fractal dimension','radius error', \n",
    "         'texture error', 'perimeter error', 'area error','smoothness error', 'compactness error', 'concavity error',\n",
    "       'concave points error', 'symmetry error','fractal dimension error', 'worst radius', 'worst texture',\n",
    "       'worst perimeter', 'worst area', 'worst smoothness','worst compactness', 'worst concavity', \n",
    "         'worst concave points','worst symmetry', 'worst fractal dimension']\n",
    "data=dataset.data\n",
    "#normalisation/feature scaling\n",
    "#feature scaling doesn't effect the output. you will get same correlation matrix before and after normalisation \n",
    "mean=data.mean()\n",
    "std=data.std()\n",
    "data=(data-mean)/std\n",
    "df=pd.DataFrame(data,columns=columns)\n",
    "y=dataset.target\n",
    "df['target'] = y"
   ]
  },
  {
   "cell_type": "code",
   "execution_count": null,
   "metadata": {},
   "outputs": [],
   "source": []
  }
 ],
 "metadata": {
  "kernelspec": {
   "display_name": "Python 3",
   "language": "python",
   "name": "python3"
  },
  "language_info": {
   "codemirror_mode": {
    "name": "ipython",
    "version": 3
   },
   "file_extension": ".py",
   "mimetype": "text/x-python",
   "name": "python",
   "nbconvert_exporter": "python",
   "pygments_lexer": "ipython3",
   "version": "3.7.1"
  }
 },
 "nbformat": 4,
 "nbformat_minor": 2
}
